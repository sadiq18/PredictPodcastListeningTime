{
 "cells": [
  {
   "cell_type": "code",
   "execution_count": 1,
   "id": "667f6ae4",
   "metadata": {
    "_cell_guid": "b1076dfc-b9ad-4769-8c92-a6c4dae69d19",
    "_uuid": "8f2839f25d086af736a60e9eeb907d3b93b6e0e5",
    "execution": {
     "iopub.execute_input": "2025-04-03T19:49:21.586253Z",
     "iopub.status.busy": "2025-04-03T19:49:21.585733Z",
     "iopub.status.idle": "2025-04-03T19:49:22.627790Z",
     "shell.execute_reply": "2025-04-03T19:49:22.626254Z"
    },
    "papermill": {
     "duration": 1.053644,
     "end_time": "2025-04-03T19:49:22.629556",
     "exception": false,
     "start_time": "2025-04-03T19:49:21.575912",
     "status": "completed"
    },
    "tags": []
   },
   "outputs": [
    {
     "name": "stdout",
     "output_type": "stream",
     "text": [
      "/kaggle/input/playground-series-s5e4/sample_submission.csv\n",
      "/kaggle/input/playground-series-s5e4/train.csv\n",
      "/kaggle/input/playground-series-s5e4/test.csv\n"
     ]
    }
   ],
   "source": [
    "# This Python 3 environment comes with many helpful analytics libraries installed\n",
    "# It is defined by the kaggle/python Docker image: https://github.com/kaggle/docker-python\n",
    "# For example, here's several helpful packages to load\n",
    "\n",
    "import numpy as np # linear algebra\n",
    "import pandas as pd # data processing, CSV file I/O (e.g. pd.read_csv)\n",
    "\n",
    "# Input data files are available in the read-only \"../input/\" directory\n",
    "# For example, running this (by clicking run or pressing Shift+Enter) will list all files under the input directory\n",
    "\n",
    "import os\n",
    "for dirname, _, filenames in os.walk('/kaggle/input'):\n",
    "    for filename in filenames:\n",
    "        print(os.path.join(dirname, filename))\n",
    "\n",
    "# You can write up to 20GB to the current directory (/kaggle/working/) that gets preserved as output when you create a version using \"Save & Run All\" \n",
    "# You can also write temporary files to /kaggle/temp/, but they won't be saved outside of the current session"
   ]
  },
  {
   "cell_type": "code",
   "execution_count": 2,
   "id": "54e93db8",
   "metadata": {
    "execution": {
     "iopub.execute_input": "2025-04-03T19:49:22.646447Z",
     "iopub.status.busy": "2025-04-03T19:49:22.645843Z",
     "iopub.status.idle": "2025-04-03T19:49:25.263164Z",
     "shell.execute_reply": "2025-04-03T19:49:25.261973Z"
    },
    "papermill": {
     "duration": 2.627907,
     "end_time": "2025-04-03T19:49:25.265457",
     "exception": false,
     "start_time": "2025-04-03T19:49:22.637550",
     "status": "completed"
    },
    "tags": []
   },
   "outputs": [],
   "source": [
    "import warnings \n",
    "warnings.filterwarnings(\"ignore\")\n",
    "\n",
    "import pandas as pd\n",
    "import numpy as np\n",
    "import matplotlib.pyplot as plt\n",
    "import seaborn as sns\n",
    "import scipy.stats as stats\n",
    "\n",
    "from sklearn.preprocessing import OneHotEncoder\n",
    "from sklearn.preprocessing import StandardScaler\n",
    "from sklearn.model_selection import train_test_split\n",
    "from sklearn.model_selection import KFold\n",
    "from sklearn.model_selection import cross_val_score\n",
    "from sklearn.linear_model import LinearRegression\n",
    "from sklearn.metrics import make_scorer, mean_squared_error\n",
    "\n",
    "import optuna"
   ]
  },
  {
   "cell_type": "markdown",
   "id": "2ce8d3a7",
   "metadata": {
    "papermill": {
     "duration": 0.006996,
     "end_time": "2025-04-03T19:49:25.280301",
     "exception": false,
     "start_time": "2025-04-03T19:49:25.273305",
     "status": "completed"
    },
    "tags": []
   },
   "source": [
    "# Data Reading"
   ]
  },
  {
   "cell_type": "code",
   "execution_count": 3,
   "id": "79cb1c87",
   "metadata": {
    "execution": {
     "iopub.execute_input": "2025-04-03T19:49:25.296113Z",
     "iopub.status.busy": "2025-04-03T19:49:25.295570Z",
     "iopub.status.idle": "2025-04-03T19:49:28.125160Z",
     "shell.execute_reply": "2025-04-03T19:49:28.124116Z"
    },
    "papermill": {
     "duration": 2.839599,
     "end_time": "2025-04-03T19:49:28.127094",
     "exception": false,
     "start_time": "2025-04-03T19:49:25.287495",
     "status": "completed"
    },
    "tags": []
   },
   "outputs": [],
   "source": [
    "# Data reading \n",
    "train_data = pd.read_csv(\"/kaggle/input/playground-series-s5e4/train.csv\")\n",
    "test_data = pd.read_csv(\"/kaggle/input/playground-series-s5e4/test.csv\")\n",
    "submission = pd.read_csv(\"/kaggle/input/playground-series-s5e4/sample_submission.csv\")"
   ]
  },
  {
   "cell_type": "code",
   "execution_count": 4,
   "id": "d2f6b90e",
   "metadata": {
    "execution": {
     "iopub.execute_input": "2025-04-03T19:49:28.143229Z",
     "iopub.status.busy": "2025-04-03T19:49:28.142800Z",
     "iopub.status.idle": "2025-04-03T19:49:28.147294Z",
     "shell.execute_reply": "2025-04-03T19:49:28.146263Z"
    },
    "papermill": {
     "duration": 0.014377,
     "end_time": "2025-04-03T19:49:28.149049",
     "exception": false,
     "start_time": "2025-04-03T19:49:28.134672",
     "status": "completed"
    },
    "tags": []
   },
   "outputs": [],
   "source": [
    "# Configuration \n",
    "numerical_variables = ['Episode_Length_minutes', 'Host_Popularity_percentage', 'Guest_Popularity_percentage', 'Number_of_Ads']\n",
    "categorial_valiable = ['Podcast_Name', 'Episode_Title', 'Genre', 'Publication_Day', 'Publication_Time', 'Episode_Sentiment'] \n",
    "target_variable = 'Listening_Time_minutes'"
   ]
  },
  {
   "cell_type": "markdown",
   "id": "2429e89d",
   "metadata": {
    "papermill": {
     "duration": 0.007007,
     "end_time": "2025-04-03T19:49:28.163436",
     "exception": false,
     "start_time": "2025-04-03T19:49:28.156429",
     "status": "completed"
    },
    "tags": []
   },
   "source": [
    "# Utility"
   ]
  },
  {
   "cell_type": "code",
   "execution_count": 5,
   "id": "caed3093",
   "metadata": {
    "execution": {
     "iopub.execute_input": "2025-04-03T19:49:28.180094Z",
     "iopub.status.busy": "2025-04-03T19:49:28.179661Z",
     "iopub.status.idle": "2025-04-03T19:49:28.185120Z",
     "shell.execute_reply": "2025-04-03T19:49:28.183831Z"
    },
    "papermill": {
     "duration": 0.015657,
     "end_time": "2025-04-03T19:49:28.186940",
     "exception": false,
     "start_time": "2025-04-03T19:49:28.171283",
     "status": "completed"
    },
    "tags": []
   },
   "outputs": [],
   "source": [
    "def noise_removal(df):\n",
    "    df[\"Number_of_Ads\"] = df['Number_of_Ads'].apply(lambda x: x if x < 4 else 4)\n",
    "    df[\"Episode_Length_minutes\"] = df['Episode_Length_minutes'].apply(lambda x: x if x < 150 else 150)\n",
    "    return df"
   ]
  },
  {
   "cell_type": "code",
   "execution_count": 6,
   "id": "7aa41680",
   "metadata": {
    "execution": {
     "iopub.execute_input": "2025-04-03T19:49:28.202475Z",
     "iopub.status.busy": "2025-04-03T19:49:28.202094Z",
     "iopub.status.idle": "2025-04-03T19:49:28.207572Z",
     "shell.execute_reply": "2025-04-03T19:49:28.206261Z"
    },
    "papermill": {
     "duration": 0.015169,
     "end_time": "2025-04-03T19:49:28.209367",
     "exception": false,
     "start_time": "2025-04-03T19:49:28.194198",
     "status": "completed"
    },
    "tags": []
   },
   "outputs": [],
   "source": [
    "def missing_value_imputation(df):\n",
    "    df[\"Episode_Length_minutes\"] = df.groupby(\"Podcast_Name\")[\"Episode_Length_minutes\"].transform(lambda x: x.fillna(x.mean()))\n",
    "    df[\"Guest_Popularity_percentage\"] = df.groupby(\"Podcast_Name\")[\"Guest_Popularity_percentage\"].transform(lambda x: x.fillna(x.mean()))\n",
    "    df[\"Number_of_Ads\"] = df[\"Number_of_Ads\"].fillna(2)\n",
    "    return df"
   ]
  },
  {
   "cell_type": "code",
   "execution_count": 7,
   "id": "24240d38",
   "metadata": {
    "execution": {
     "iopub.execute_input": "2025-04-03T19:49:28.225288Z",
     "iopub.status.busy": "2025-04-03T19:49:28.224834Z",
     "iopub.status.idle": "2025-04-03T19:49:28.235436Z",
     "shell.execute_reply": "2025-04-03T19:49:28.234157Z"
    },
    "papermill": {
     "duration": 0.020467,
     "end_time": "2025-04-03T19:49:28.237192",
     "exception": false,
     "start_time": "2025-04-03T19:49:28.216725",
     "status": "completed"
    },
    "tags": []
   },
   "outputs": [],
   "source": [
    "def bin_popularity(value):\n",
    "    if value < 20:\n",
    "        return 'Low'\n",
    "    elif value < 60:\n",
    "        return 'Medium'\n",
    "    else:\n",
    "        return 'High'\n",
    "\n",
    "INTERACT = []\n",
    "def feature_engineering(train, test):\n",
    "    global numerical_variables\n",
    "    # Numerical columns \n",
    "    ## Interaction features\n",
    "    if len(INTERACT) > 0:\n",
    "        INTERACT.clear()\n",
    "    for i,c1 in enumerate(numerical_variables):\n",
    "        for j,c2 in enumerate(numerical_variables[i+1:]):\n",
    "            feature = f\"{c1}_{c2}\"\n",
    "            train[feature] = train[c1] * train[c2]\n",
    "            test[feature] = test[c1] * test[c2]\n",
    "            INTERACT.append(feature)\n",
    "    numerical_variables += INTERACT\n",
    "    print(f\"There are {len(INTERACT)} interaction features:\")\n",
    "    print(INTERACT)\n",
    "    \n",
    "    train['Host_Guest_Avg_Popularity'] = (train['Host_Popularity_percentage'] + train['Guest_Popularity_percentage']) / 2\n",
    "    test['Host_Guest_Avg_Popularity'] = (test['Host_Popularity_percentage'] + test['Guest_Popularity_percentage']) / 2\n",
    "    numerical_variables.append(\"Host_Guest_Avg_Popularity\")\n",
    "    \n",
    "    train[\"Host_Popularity_Level\"] = train[\"Host_Popularity_percentage\"].apply(bin_popularity)\n",
    "    test[\"Host_Popularity_Level\"] = test[\"Host_Popularity_percentage\"].apply(bin_popularity)\n",
    "    categorial_valiable.append(\"Host_Popularity_Level\")\n",
    "    train[\"Guest_Popularity_Level\"] = train[\"Guest_Popularity_percentage\"].apply(bin_popularity)\n",
    "    test[\"Guest_Popularity_Level\"] = test[\"Guest_Popularity_percentage\"].apply(bin_popularity)\n",
    "    categorial_valiable.append(\"Guest_Popularity_Level\")\n",
    "    \n",
    "    train['Has_Ads'] = train['Number_of_Ads'].apply(lambda x: 1 if x > 0 else 0)\n",
    "    test['Has_Ads'] = test['Number_of_Ads'].apply(lambda x: 1 if x > 0 else 0)\n",
    "    \n",
    "    train[\"Ads_Per_Minutes\"] = train[\"Episode_Length_minutes\"] / (train[\"Number_of_Ads\"]+1)\n",
    "    test[\"Ads_Per_Minutes\"] = test[\"Episode_Length_minutes\"] / (test[\"Number_of_Ads\"]+1)\n",
    "    numerical_variables.append(\"Ads_Per_Minutes\")\n",
    "\n",
    "    # Categorical features\n",
    "    train['Is_Weekend'] = train['Publication_Day'].apply(lambda x: 1 if x == \"Saturday\" or x == \"Sunday\" else 0)\n",
    "    test['Is_Weekend'] = test['Publication_Day'].apply(lambda x: 1 if x == \"Saturday\" or x == \"Sunday\" else 0)\n",
    "\n",
    "    return train, test"
   ]
  },
  {
   "cell_type": "code",
   "execution_count": 8,
   "id": "a95c42c0",
   "metadata": {
    "execution": {
     "iopub.execute_input": "2025-04-03T19:49:28.252614Z",
     "iopub.status.busy": "2025-04-03T19:49:28.252283Z",
     "iopub.status.idle": "2025-04-03T19:49:28.258403Z",
     "shell.execute_reply": "2025-04-03T19:49:28.257328Z"
    },
    "papermill": {
     "duration": 0.015603,
     "end_time": "2025-04-03T19:49:28.259969",
     "exception": false,
     "start_time": "2025-04-03T19:49:28.244366",
     "status": "completed"
    },
    "tags": []
   },
   "outputs": [],
   "source": [
    "def one_hot_encode_features(train, test, categorical_features):\n",
    "    # Initialize the OneHotEncoder with drop='first'\n",
    "    encoder = OneHotEncoder(drop='first', sparse=False)\n",
    "    \n",
    "    # Fit and transform the train set\n",
    "    train_encoded = encoder.fit_transform(train[categorical_features])\n",
    "    \n",
    "    # Transform the test set\n",
    "    test_encoded = encoder.transform(test[categorical_features])\n",
    "    \n",
    "    # Convert the encoded arrays to DataFrame\n",
    "    train_encoded_df = pd.DataFrame(train_encoded, columns=encoder.get_feature_names_out(categorical_features))\n",
    "    test_encoded_df = pd.DataFrame(test_encoded, columns=encoder.get_feature_names_out(categorical_features))\n",
    "    \n",
    "    # Drop the original categorical columns from train and test DataFrames\n",
    "    train.drop(columns=categorical_features, inplace=True)\n",
    "    test.drop(columns=categorical_features, inplace=True)\n",
    "    \n",
    "    # Concatenate the one-hot encoded features to the original DataFrames\n",
    "    train = pd.concat([train, train_encoded_df], axis=1)\n",
    "    test = pd.concat([test, test_encoded_df], axis=1)\n",
    "    \n",
    "    return train, test\n"
   ]
  },
  {
   "cell_type": "code",
   "execution_count": 9,
   "id": "79b5818d",
   "metadata": {
    "execution": {
     "iopub.execute_input": "2025-04-03T19:49:28.275867Z",
     "iopub.status.busy": "2025-04-03T19:49:28.275499Z",
     "iopub.status.idle": "2025-04-03T19:49:28.280759Z",
     "shell.execute_reply": "2025-04-03T19:49:28.279744Z"
    },
    "papermill": {
     "duration": 0.015185,
     "end_time": "2025-04-03T19:49:28.282529",
     "exception": false,
     "start_time": "2025-04-03T19:49:28.267344",
     "status": "completed"
    },
    "tags": []
   },
   "outputs": [],
   "source": [
    "def standardize_features(train, test, numerical_features):\n",
    "    # Initialize the StandardScaler\n",
    "    scaler = StandardScaler()\n",
    "    \n",
    "    # Fit and transform the training data\n",
    "    train_scaled = scaler.fit_transform(train[numerical_features])\n",
    "    \n",
    "    # Transform the test data\n",
    "    test_scaled = scaler.transform(test[numerical_features])\n",
    "    \n",
    "    # Convert the scaled arrays back to DataFrames\n",
    "    train_scaled_df = pd.DataFrame(train_scaled, columns=numerical_features)\n",
    "    test_scaled_df = pd.DataFrame(test_scaled, columns=numerical_features)\n",
    "    \n",
    "    # Replace the original columns with the standardized columns\n",
    "    train[numerical_features] = train_scaled_df\n",
    "    test[numerical_features] = test_scaled_df\n",
    "    \n",
    "    return train, test"
   ]
  },
  {
   "cell_type": "code",
   "execution_count": 10,
   "id": "e906c458",
   "metadata": {
    "execution": {
     "iopub.execute_input": "2025-04-03T19:49:28.298173Z",
     "iopub.status.busy": "2025-04-03T19:49:28.297724Z",
     "iopub.status.idle": "2025-04-03T19:49:28.304820Z",
     "shell.execute_reply": "2025-04-03T19:49:28.303902Z"
    },
    "papermill": {
     "duration": 0.016617,
     "end_time": "2025-04-03T19:49:28.306471",
     "exception": false,
     "start_time": "2025-04-03T19:49:28.289854",
     "status": "completed"
    },
    "tags": []
   },
   "outputs": [
    {
     "data": {
      "text/plain": [
       "Index(['id', 'Podcast_Name', 'Episode_Title', 'Episode_Length_minutes',\n",
       "       'Genre', 'Host_Popularity_percentage', 'Publication_Day',\n",
       "       'Publication_Time', 'Guest_Popularity_percentage', 'Number_of_Ads',\n",
       "       'Episode_Sentiment', 'Listening_Time_minutes'],\n",
       "      dtype='object')"
      ]
     },
     "execution_count": 10,
     "metadata": {},
     "output_type": "execute_result"
    }
   ],
   "source": [
    "train_data.columns"
   ]
  },
  {
   "cell_type": "markdown",
   "id": "1a58789e",
   "metadata": {
    "papermill": {
     "duration": 0.007031,
     "end_time": "2025-04-03T19:49:28.320634",
     "exception": false,
     "start_time": "2025-04-03T19:49:28.313603",
     "status": "completed"
    },
    "tags": []
   },
   "source": [
    "# Data Processing"
   ]
  },
  {
   "cell_type": "code",
   "execution_count": 11,
   "id": "d27704d8",
   "metadata": {
    "execution": {
     "iopub.execute_input": "2025-04-03T19:49:28.336176Z",
     "iopub.status.busy": "2025-04-03T19:49:28.335777Z",
     "iopub.status.idle": "2025-04-03T19:49:30.899848Z",
     "shell.execute_reply": "2025-04-03T19:49:30.898703Z"
    },
    "papermill": {
     "duration": 2.574183,
     "end_time": "2025-04-03T19:49:30.901866",
     "exception": false,
     "start_time": "2025-04-03T19:49:28.327683",
     "status": "completed"
    },
    "tags": []
   },
   "outputs": [
    {
     "name": "stdout",
     "output_type": "stream",
     "text": [
      "There are 6 interaction features:\n",
      "['Episode_Length_minutes_Host_Popularity_percentage', 'Episode_Length_minutes_Guest_Popularity_percentage', 'Episode_Length_minutes_Number_of_Ads', 'Host_Popularity_percentage_Guest_Popularity_percentage', 'Host_Popularity_percentage_Number_of_Ads', 'Guest_Popularity_percentage_Number_of_Ads']\n"
     ]
    }
   ],
   "source": [
    "# Data Processing \n",
    "train_data = noise_removal(train_data)\n",
    "test_data = noise_removal(test_data)\n",
    "train_data = missing_value_imputation(train_data)\n",
    "test_data = missing_value_imputation(test_data)\n",
    "train_data, test_data = feature_engineering(train_data, test_data)"
   ]
  },
  {
   "cell_type": "code",
   "execution_count": 12,
   "id": "ad63f604",
   "metadata": {
    "execution": {
     "iopub.execute_input": "2025-04-03T19:49:30.918251Z",
     "iopub.status.busy": "2025-04-03T19:49:30.917841Z",
     "iopub.status.idle": "2025-04-03T19:49:30.922937Z",
     "shell.execute_reply": "2025-04-03T19:49:30.921776Z"
    },
    "papermill": {
     "duration": 0.015405,
     "end_time": "2025-04-03T19:49:30.924791",
     "exception": false,
     "start_time": "2025-04-03T19:49:30.909386",
     "status": "completed"
    },
    "tags": []
   },
   "outputs": [
    {
     "name": "stdout",
     "output_type": "stream",
     "text": [
      "['Episode_Length_minutes_Host_Popularity_percentage', 'Episode_Length_minutes_Guest_Popularity_percentage', 'Episode_Length_minutes_Number_of_Ads', 'Host_Popularity_percentage_Guest_Popularity_percentage', 'Host_Popularity_percentage_Number_of_Ads', 'Guest_Popularity_percentage_Number_of_Ads']\n",
      "(750000, 24)\n",
      "(250000, 23)\n",
      "['Podcast_Name', 'Episode_Title', 'Genre', 'Publication_Day', 'Publication_Time', 'Episode_Sentiment', 'Host_Popularity_Level', 'Guest_Popularity_Level']\n",
      "['Episode_Length_minutes', 'Host_Popularity_percentage', 'Guest_Popularity_percentage', 'Number_of_Ads', 'Episode_Length_minutes_Host_Popularity_percentage', 'Episode_Length_minutes_Guest_Popularity_percentage', 'Episode_Length_minutes_Number_of_Ads', 'Host_Popularity_percentage_Guest_Popularity_percentage', 'Host_Popularity_percentage_Number_of_Ads', 'Guest_Popularity_percentage_Number_of_Ads', 'Host_Guest_Avg_Popularity', 'Ads_Per_Minutes']\n"
     ]
    }
   ],
   "source": [
    "print(INTERACT)\n",
    "print(train_data.shape)\n",
    "print(test_data.shape)\n",
    "print(categorial_valiable)\n",
    "print(numerical_variables)"
   ]
  },
  {
   "cell_type": "code",
   "execution_count": 13,
   "id": "49f2d9ad",
   "metadata": {
    "execution": {
     "iopub.execute_input": "2025-04-03T19:49:30.941588Z",
     "iopub.status.busy": "2025-04-03T19:49:30.941214Z",
     "iopub.status.idle": "2025-04-03T19:49:41.243811Z",
     "shell.execute_reply": "2025-04-03T19:49:41.242686Z"
    },
    "papermill": {
     "duration": 10.313083,
     "end_time": "2025-04-03T19:49:41.245787",
     "exception": false,
     "start_time": "2025-04-03T19:49:30.932704",
     "status": "completed"
    },
    "tags": []
   },
   "outputs": [],
   "source": [
    "# Encoding \n",
    "train_data, test_data = one_hot_encode_features(train_data, test_data, categorial_valiable)\n",
    "\n",
    "train_data, test_data = standardize_features(train_data, test_data, numerical_variables)"
   ]
  },
  {
   "cell_type": "code",
   "execution_count": 14,
   "id": "075e751b",
   "metadata": {
    "execution": {
     "iopub.execute_input": "2025-04-03T19:49:41.262425Z",
     "iopub.status.busy": "2025-04-03T19:49:41.261981Z",
     "iopub.status.idle": "2025-04-03T19:49:41.267652Z",
     "shell.execute_reply": "2025-04-03T19:49:41.266380Z"
    },
    "papermill": {
     "duration": 0.015759,
     "end_time": "2025-04-03T19:49:41.269441",
     "exception": false,
     "start_time": "2025-04-03T19:49:41.253682",
     "status": "completed"
    },
    "tags": []
   },
   "outputs": [
    {
     "name": "stdout",
     "output_type": "stream",
     "text": [
      "(750000, 186)\n",
      "(250000, 185)\n"
     ]
    }
   ],
   "source": [
    "print(train_data.shape)\n",
    "print(test_data.shape)"
   ]
  },
  {
   "cell_type": "code",
   "execution_count": 15,
   "id": "28882ea9",
   "metadata": {
    "execution": {
     "iopub.execute_input": "2025-04-03T19:49:41.285878Z",
     "iopub.status.busy": "2025-04-03T19:49:41.285549Z",
     "iopub.status.idle": "2025-04-03T19:49:41.917745Z",
     "shell.execute_reply": "2025-04-03T19:49:41.916565Z"
    },
    "papermill": {
     "duration": 0.64249,
     "end_time": "2025-04-03T19:49:41.919613",
     "exception": false,
     "start_time": "2025-04-03T19:49:41.277123",
     "status": "completed"
    },
    "tags": []
   },
   "outputs": [
    {
     "name": "stdout",
     "output_type": "stream",
     "text": [
      "0\n",
      "0\n"
     ]
    }
   ],
   "source": [
    "print(train_data.isnull().sum().sum())\n",
    "print(test_data.isnull().sum().sum())"
   ]
  },
  {
   "cell_type": "markdown",
   "id": "8e4865df",
   "metadata": {
    "papermill": {
     "duration": 0.007213,
     "end_time": "2025-04-03T19:49:41.934465",
     "exception": false,
     "start_time": "2025-04-03T19:49:41.927252",
     "status": "completed"
    },
    "tags": []
   },
   "source": [
    "# Traning Prepration"
   ]
  },
  {
   "cell_type": "code",
   "execution_count": 16,
   "id": "6047e031",
   "metadata": {
    "execution": {
     "iopub.execute_input": "2025-04-03T19:49:41.950972Z",
     "iopub.status.busy": "2025-04-03T19:49:41.950634Z",
     "iopub.status.idle": "2025-04-03T19:49:41.956832Z",
     "shell.execute_reply": "2025-04-03T19:49:41.955932Z"
    },
    "papermill": {
     "duration": 0.016177,
     "end_time": "2025-04-03T19:49:41.958386",
     "exception": false,
     "start_time": "2025-04-03T19:49:41.942209",
     "status": "completed"
    },
    "tags": []
   },
   "outputs": [
    {
     "data": {
      "text/plain": [
       "Index(['id', 'Episode_Length_minutes', 'Host_Popularity_percentage',\n",
       "       'Guest_Popularity_percentage', 'Number_of_Ads',\n",
       "       'Listening_Time_minutes',\n",
       "       'Episode_Length_minutes_Host_Popularity_percentage',\n",
       "       'Episode_Length_minutes_Guest_Popularity_percentage',\n",
       "       'Episode_Length_minutes_Number_of_Ads',\n",
       "       'Host_Popularity_percentage_Guest_Popularity_percentage',\n",
       "       ...\n",
       "       'Publication_Day_Wednesday', 'Publication_Time_Evening',\n",
       "       'Publication_Time_Morning', 'Publication_Time_Night',\n",
       "       'Episode_Sentiment_Neutral', 'Episode_Sentiment_Positive',\n",
       "       'Host_Popularity_Level_Low', 'Host_Popularity_Level_Medium',\n",
       "       'Guest_Popularity_Level_Low', 'Guest_Popularity_Level_Medium'],\n",
       "      dtype='object', length=186)"
      ]
     },
     "execution_count": 16,
     "metadata": {},
     "output_type": "execute_result"
    }
   ],
   "source": [
    "train_data.columns"
   ]
  },
  {
   "cell_type": "code",
   "execution_count": 17,
   "id": "42e58cde",
   "metadata": {
    "execution": {
     "iopub.execute_input": "2025-04-03T19:49:41.975101Z",
     "iopub.status.busy": "2025-04-03T19:49:41.974712Z",
     "iopub.status.idle": "2025-04-03T19:49:43.794102Z",
     "shell.execute_reply": "2025-04-03T19:49:43.793026Z"
    },
    "papermill": {
     "duration": 1.829895,
     "end_time": "2025-04-03T19:49:43.796142",
     "exception": false,
     "start_time": "2025-04-03T19:49:41.966247",
     "status": "completed"
    },
    "tags": []
   },
   "outputs": [],
   "source": [
    "X = train_data.drop(['Listening_Time_minutes', 'id'], axis=1)\n",
    "y = train_data['Listening_Time_minutes']\n",
    "\n",
    "X_train, X_val, y_train, y_val = train_test_split(X, y, test_size=0.2, random_state=42)"
   ]
  },
  {
   "cell_type": "code",
   "execution_count": 18,
   "id": "0068f33d",
   "metadata": {
    "execution": {
     "iopub.execute_input": "2025-04-03T19:49:43.813878Z",
     "iopub.status.busy": "2025-04-03T19:49:43.813541Z",
     "iopub.status.idle": "2025-04-03T19:49:43.818764Z",
     "shell.execute_reply": "2025-04-03T19:49:43.817569Z"
    },
    "papermill": {
     "duration": 0.016195,
     "end_time": "2025-04-03T19:49:43.820434",
     "exception": false,
     "start_time": "2025-04-03T19:49:43.804239",
     "status": "completed"
    },
    "tags": []
   },
   "outputs": [
    {
     "name": "stdout",
     "output_type": "stream",
     "text": [
      "600000 150000\n"
     ]
    }
   ],
   "source": [
    "print(len(y_train), len(y_val))"
   ]
  },
  {
   "cell_type": "markdown",
   "id": "34c83b9f",
   "metadata": {
    "papermill": {
     "duration": 0.008002,
     "end_time": "2025-04-03T19:49:43.836409",
     "exception": false,
     "start_time": "2025-04-03T19:49:43.828407",
     "status": "completed"
    },
    "tags": []
   },
   "source": [
    "# Model Optimisation "
   ]
  },
  {
   "cell_type": "code",
   "execution_count": 19,
   "id": "3823c0eb",
   "metadata": {
    "execution": {
     "iopub.execute_input": "2025-04-03T19:49:43.853593Z",
     "iopub.status.busy": "2025-04-03T19:49:43.853222Z",
     "iopub.status.idle": "2025-04-03T19:49:43.857636Z",
     "shell.execute_reply": "2025-04-03T19:49:43.856664Z"
    },
    "papermill": {
     "duration": 0.015069,
     "end_time": "2025-04-03T19:49:43.859198",
     "exception": false,
     "start_time": "2025-04-03T19:49:43.844129",
     "status": "completed"
    },
    "tags": []
   },
   "outputs": [],
   "source": [
    "cv = KFold(n_splits=5, shuffle=True, random_state=42)"
   ]
  },
  {
   "cell_type": "code",
   "execution_count": 20,
   "id": "08025323",
   "metadata": {
    "execution": {
     "iopub.execute_input": "2025-04-03T19:49:43.876425Z",
     "iopub.status.busy": "2025-04-03T19:49:43.876038Z",
     "iopub.status.idle": "2025-04-03T19:54:52.501951Z",
     "shell.execute_reply": "2025-04-03T19:54:52.500732Z"
    },
    "papermill": {
     "duration": 308.64475,
     "end_time": "2025-04-03T19:54:52.511889",
     "exception": false,
     "start_time": "2025-04-03T19:49:43.867139",
     "status": "completed"
    },
    "tags": []
   },
   "outputs": [
    {
     "name": "stderr",
     "output_type": "stream",
     "text": [
      "[I 2025-04-03 19:49:43,879] A new study created in memory with name: no-name-98ea4e7c-eb24-46c0-a0dd-ea1b50c22fe7\n",
      "[I 2025-04-03 19:50:22,144] Trial 0 finished with value: 20.803811243063368 and parameters: {'fit_intercept': False, 'copy_X': False}. Best is trial 0 with value: 20.803811243063368.\n",
      "[I 2025-04-03 19:51:00,534] Trial 1 finished with value: 20.803811243063368 and parameters: {'fit_intercept': False, 'copy_X': True}. Best is trial 0 with value: 20.803811243063368.\n",
      "[I 2025-04-03 19:51:38,948] Trial 2 finished with value: 20.803811243063368 and parameters: {'fit_intercept': False, 'copy_X': True}. Best is trial 0 with value: 20.803811243063368.\n",
      "[I 2025-04-03 19:52:18,157] Trial 3 finished with value: 20.79300333293909 and parameters: {'fit_intercept': True, 'copy_X': False}. Best is trial 3 with value: 20.79300333293909.\n",
      "[I 2025-04-03 19:52:56,422] Trial 4 finished with value: 20.803811243063368 and parameters: {'fit_intercept': False, 'copy_X': True}. Best is trial 3 with value: 20.79300333293909.\n",
      "[I 2025-04-03 19:53:33,836] Trial 5 finished with value: 20.803811243063368 and parameters: {'fit_intercept': False, 'copy_X': False}. Best is trial 3 with value: 20.79300333293909.\n",
      "[I 2025-04-03 19:54:13,253] Trial 6 finished with value: 20.79300333293909 and parameters: {'fit_intercept': True, 'copy_X': False}. Best is trial 3 with value: 20.79300333293909.\n",
      "[I 2025-04-03 19:54:52,495] Trial 7 finished with value: 20.79300333293909 and parameters: {'fit_intercept': True, 'copy_X': False}. Best is trial 3 with value: 20.79300333293909.\n"
     ]
    },
    {
     "name": "stdout",
     "output_type": "stream",
     "text": [
      "Best params for RandomForest: {'fit_intercept': True, 'copy_X': False}\n"
     ]
    }
   ],
   "source": [
    "def objective_liner_regression(trial):\n",
    "    fit_intercept = trial.suggest_categorical('fit_intercept', [True, False])\n",
    "    copy_X = trial.suggest_categorical('copy_X', [True, False])\n",
    "\n",
    "    clf = LinearRegression(fit_intercept=fit_intercept, copy_X=copy_X)\n",
    "\n",
    "    # Create a custom scorer for negative RMSE\n",
    "    #scorer = make_scorer(mean_squared_error, squared=False)  # RMSE\n",
    "    \n",
    "    #score = cross_val_score(clf,X_train, y_train, cv=cv, scoring=scorer).mean()\n",
    "    score = cross_val_score(clf, X_train, y_train, cv=5, scoring='neg_mean_squared_error').mean()\n",
    "    rmse_score = np.sqrt(-score)\n",
    "    \n",
    "    return rmse_score\n",
    "\n",
    "study_liner_reg = optuna.create_study(direction=\"minimize\")\n",
    "study_liner_reg.optimize(objective_liner_regression, n_trials=8)\n",
    "best_param_liner_reg = study_liner_reg.best_trial.params\n",
    "print(\"Best params for RandomForest:\", best_param_liner_reg)"
   ]
  },
  {
   "cell_type": "code",
   "execution_count": 21,
   "id": "01f68402",
   "metadata": {
    "execution": {
     "iopub.execute_input": "2025-04-03T19:54:52.530443Z",
     "iopub.status.busy": "2025-04-03T19:54:52.529970Z",
     "iopub.status.idle": "2025-04-03T19:54:53.741356Z",
     "shell.execute_reply": "2025-04-03T19:54:53.740189Z"
    },
    "papermill": {
     "duration": 1.223173,
     "end_time": "2025-04-03T19:54:53.743356",
     "exception": false,
     "start_time": "2025-04-03T19:54:52.520183",
     "status": "completed"
    },
    "tags": []
   },
   "outputs": [
    {
     "data": {
      "text/html": [
       "\n",
       "        <iframe\n",
       "            width=\"100%\"\n",
       "            height=\"500\"\n",
       "            src=\"optimization_history.html\"\n",
       "            frameborder=\"0\"\n",
       "            allowfullscreen\n",
       "            \n",
       "        ></iframe>\n",
       "        "
      ],
      "text/plain": [
       "<IPython.lib.display.IFrame at 0x7994b2d96ce0>"
      ]
     },
     "metadata": {},
     "output_type": "display_data"
    },
    {
     "data": {
      "text/html": [
       "\n",
       "        <iframe\n",
       "            width=\"100%\"\n",
       "            height=\"500\"\n",
       "            src=\"parameter_importances.html\"\n",
       "            frameborder=\"0\"\n",
       "            allowfullscreen\n",
       "            \n",
       "        ></iframe>\n",
       "        "
      ],
      "text/plain": [
       "<IPython.lib.display.IFrame at 0x7994b2d95120>"
      ]
     },
     "metadata": {},
     "output_type": "display_data"
    }
   ],
   "source": [
    "import optuna.visualization as vis\n",
    "from IPython.display import IFrame, display\n",
    "\n",
    "# Plot the optimization history (objective value over trials)\n",
    "fig_history = vis.plot_optimization_history(study_liner_reg)\n",
    "fig_history.write_html(\"optimization_history.html\")\n",
    "\n",
    "# Plot the parameter importances\n",
    "fig_importances = vis.plot_param_importances(study_liner_reg)\n",
    "fig_importances.write_html(\"parameter_importances.html\")\n",
    "\n",
    "# Display the saved HTML files inline using IFrame\n",
    "display(IFrame(src=\"optimization_history.html\", width=\"100%\", height=500))\n",
    "display(IFrame(src=\"parameter_importances.html\", width=\"100%\", height=500))"
   ]
  },
  {
   "cell_type": "code",
   "execution_count": 22,
   "id": "0d6d5e0d",
   "metadata": {
    "execution": {
     "iopub.execute_input": "2025-04-03T19:54:53.769905Z",
     "iopub.status.busy": "2025-04-03T19:54:53.769445Z",
     "iopub.status.idle": "2025-04-03T19:55:43.339707Z",
     "shell.execute_reply": "2025-04-03T19:55:43.338546Z"
    },
    "papermill": {
     "duration": 49.591357,
     "end_time": "2025-04-03T19:55:43.350715",
     "exception": false,
     "start_time": "2025-04-03T19:54:53.759358",
     "status": "completed"
    },
    "tags": []
   },
   "outputs": [
    {
     "name": "stdout",
     "output_type": "stream",
     "text": [
      "LinearRegression CV Root mean square error: -20.792848802807097\n"
     ]
    }
   ],
   "source": [
    "final_estimator = LinearRegression(**best_param_liner_reg)\n",
    "final_estimator.fit(X_train, y_train)\n",
    "\n",
    "roo_mean_square_error = cross_val_score(final_estimator, X_train, y_train, cv=cv, scoring='neg_root_mean_squared_error').mean()\n",
    "print(\"LinearRegression CV Root mean square error:\", roo_mean_square_error)"
   ]
  },
  {
   "cell_type": "code",
   "execution_count": 23,
   "id": "3189b83a",
   "metadata": {
    "execution": {
     "iopub.execute_input": "2025-04-03T19:55:43.369121Z",
     "iopub.status.busy": "2025-04-03T19:55:43.368733Z",
     "iopub.status.idle": "2025-04-03T19:55:52.682175Z",
     "shell.execute_reply": "2025-04-03T19:55:52.681066Z"
    },
    "papermill": {
     "duration": 9.324753,
     "end_time": "2025-04-03T19:55:52.683930",
     "exception": false,
     "start_time": "2025-04-03T19:55:43.359177",
     "status": "completed"
    },
    "tags": []
   },
   "outputs": [
    {
     "name": "stdout",
     "output_type": "stream",
     "text": [
      "Validation Room mean square error: 20.76571893373446\n"
     ]
    }
   ],
   "source": [
    "final_estimator.fit(X_train, y_train)\n",
    "y_val_pred = final_estimator.predict(X_val)\n",
    "print('Validation Room mean square error:', np.sqrt(mean_squared_error(y_val, y_val_pred)))"
   ]
  },
  {
   "cell_type": "code",
   "execution_count": 24,
   "id": "a235a1cb",
   "metadata": {
    "execution": {
     "iopub.execute_input": "2025-04-03T19:55:52.702844Z",
     "iopub.status.busy": "2025-04-03T19:55:52.702510Z",
     "iopub.status.idle": "2025-04-03T19:55:53.023394Z",
     "shell.execute_reply": "2025-04-03T19:55:53.022357Z"
    },
    "papermill": {
     "duration": 0.332695,
     "end_time": "2025-04-03T19:55:53.025443",
     "exception": false,
     "start_time": "2025-04-03T19:55:52.692748",
     "status": "completed"
    },
    "tags": []
   },
   "outputs": [],
   "source": [
    "X_test = test_data.drop(['id'], axis=1)\n",
    "\n",
    "#print(X_test.shape)\n",
    "test_predictions = final_estimator.predict(X_test)"
   ]
  },
  {
   "cell_type": "code",
   "execution_count": 25,
   "id": "1a626a51",
   "metadata": {
    "execution": {
     "iopub.execute_input": "2025-04-03T19:55:53.044394Z",
     "iopub.status.busy": "2025-04-03T19:55:53.043924Z",
     "iopub.status.idle": "2025-04-03T19:55:53.066916Z",
     "shell.execute_reply": "2025-04-03T19:55:53.065752Z"
    },
    "papermill": {
     "duration": 0.034354,
     "end_time": "2025-04-03T19:55:53.068819",
     "exception": false,
     "start_time": "2025-04-03T19:55:53.034465",
     "status": "completed"
    },
    "tags": []
   },
   "outputs": [
    {
     "data": {
      "text/html": [
       "<div>\n",
       "<style scoped>\n",
       "    .dataframe tbody tr th:only-of-type {\n",
       "        vertical-align: middle;\n",
       "    }\n",
       "\n",
       "    .dataframe tbody tr th {\n",
       "        vertical-align: top;\n",
       "    }\n",
       "\n",
       "    .dataframe thead th {\n",
       "        text-align: right;\n",
       "    }\n",
       "</style>\n",
       "<table border=\"1\" class=\"dataframe\">\n",
       "  <thead>\n",
       "    <tr style=\"text-align: right;\">\n",
       "      <th></th>\n",
       "      <th>id</th>\n",
       "      <th>Listening_Time_minutes</th>\n",
       "    </tr>\n",
       "  </thead>\n",
       "  <tbody>\n",
       "    <tr>\n",
       "      <th>0</th>\n",
       "      <td>750000</td>\n",
       "      <td>45.437</td>\n",
       "    </tr>\n",
       "    <tr>\n",
       "      <th>1</th>\n",
       "      <td>750001</td>\n",
       "      <td>45.437</td>\n",
       "    </tr>\n",
       "    <tr>\n",
       "      <th>2</th>\n",
       "      <td>750002</td>\n",
       "      <td>45.437</td>\n",
       "    </tr>\n",
       "    <tr>\n",
       "      <th>3</th>\n",
       "      <td>750003</td>\n",
       "      <td>45.437</td>\n",
       "    </tr>\n",
       "    <tr>\n",
       "      <th>4</th>\n",
       "      <td>750004</td>\n",
       "      <td>45.437</td>\n",
       "    </tr>\n",
       "  </tbody>\n",
       "</table>\n",
       "</div>"
      ],
      "text/plain": [
       "       id  Listening_Time_minutes\n",
       "0  750000                  45.437\n",
       "1  750001                  45.437\n",
       "2  750002                  45.437\n",
       "3  750003                  45.437\n",
       "4  750004                  45.437"
      ]
     },
     "execution_count": 25,
     "metadata": {},
     "output_type": "execute_result"
    }
   ],
   "source": [
    "submission.head()"
   ]
  },
  {
   "cell_type": "code",
   "execution_count": 26,
   "id": "225b08ed",
   "metadata": {
    "execution": {
     "iopub.execute_input": "2025-04-03T19:55:53.088340Z",
     "iopub.status.busy": "2025-04-03T19:55:53.087705Z",
     "iopub.status.idle": "2025-04-03T19:55:53.093731Z",
     "shell.execute_reply": "2025-04-03T19:55:53.092827Z"
    },
    "papermill": {
     "duration": 0.017593,
     "end_time": "2025-04-03T19:55:53.095527",
     "exception": false,
     "start_time": "2025-04-03T19:55:53.077934",
     "status": "completed"
    },
    "tags": []
   },
   "outputs": [],
   "source": [
    "# Create submission file\n",
    "submission_df = pd.DataFrame({\n",
    "    'id': test_data['id'],\n",
    "    'Listening_Time_minutes': test_predictions  # Predicted probabilities for rainfall\n",
    "})\n",
    "\n",
    "# Save to CSV\n",
    "#submission_df.to_csv(\"submission_StackingClassifier_03_28.csv\", index=False)"
   ]
  },
  {
   "cell_type": "code",
   "execution_count": 27,
   "id": "7b13ccc6",
   "metadata": {
    "execution": {
     "iopub.execute_input": "2025-04-03T19:55:53.114560Z",
     "iopub.status.busy": "2025-04-03T19:55:53.114195Z",
     "iopub.status.idle": "2025-04-03T19:55:53.123073Z",
     "shell.execute_reply": "2025-04-03T19:55:53.122058Z"
    },
    "papermill": {
     "duration": 0.020577,
     "end_time": "2025-04-03T19:55:53.124983",
     "exception": false,
     "start_time": "2025-04-03T19:55:53.104406",
     "status": "completed"
    },
    "tags": []
   },
   "outputs": [
    {
     "data": {
      "text/html": [
       "<div>\n",
       "<style scoped>\n",
       "    .dataframe tbody tr th:only-of-type {\n",
       "        vertical-align: middle;\n",
       "    }\n",
       "\n",
       "    .dataframe tbody tr th {\n",
       "        vertical-align: top;\n",
       "    }\n",
       "\n",
       "    .dataframe thead th {\n",
       "        text-align: right;\n",
       "    }\n",
       "</style>\n",
       "<table border=\"1\" class=\"dataframe\">\n",
       "  <thead>\n",
       "    <tr style=\"text-align: right;\">\n",
       "      <th></th>\n",
       "      <th>id</th>\n",
       "      <th>Listening_Time_minutes</th>\n",
       "    </tr>\n",
       "  </thead>\n",
       "  <tbody>\n",
       "    <tr>\n",
       "      <th>0</th>\n",
       "      <td>750000</td>\n",
       "      <td>45.057823</td>\n",
       "    </tr>\n",
       "    <tr>\n",
       "      <th>1</th>\n",
       "      <td>750001</td>\n",
       "      <td>26.053113</td>\n",
       "    </tr>\n",
       "    <tr>\n",
       "      <th>2</th>\n",
       "      <td>750002</td>\n",
       "      <td>45.164990</td>\n",
       "    </tr>\n",
       "    <tr>\n",
       "      <th>3</th>\n",
       "      <td>750003</td>\n",
       "      <td>55.114087</td>\n",
       "    </tr>\n",
       "    <tr>\n",
       "      <th>4</th>\n",
       "      <td>750004</td>\n",
       "      <td>44.316304</td>\n",
       "    </tr>\n",
       "  </tbody>\n",
       "</table>\n",
       "</div>"
      ],
      "text/plain": [
       "       id  Listening_Time_minutes\n",
       "0  750000               45.057823\n",
       "1  750001               26.053113\n",
       "2  750002               45.164990\n",
       "3  750003               55.114087\n",
       "4  750004               44.316304"
      ]
     },
     "execution_count": 27,
     "metadata": {},
     "output_type": "execute_result"
    }
   ],
   "source": [
    "submission_df.head()"
   ]
  },
  {
   "cell_type": "code",
   "execution_count": 28,
   "id": "60b7b69a",
   "metadata": {
    "execution": {
     "iopub.execute_input": "2025-04-03T19:55:53.144442Z",
     "iopub.status.busy": "2025-04-03T19:55:53.143992Z",
     "iopub.status.idle": "2025-04-03T19:55:53.157354Z",
     "shell.execute_reply": "2025-04-03T19:55:53.156328Z"
    },
    "papermill": {
     "duration": 0.025264,
     "end_time": "2025-04-03T19:55:53.159457",
     "exception": false,
     "start_time": "2025-04-03T19:55:53.134193",
     "status": "completed"
    },
    "tags": []
   },
   "outputs": [],
   "source": [
    "submission_df[\"Listening_Time_minutes\"] = submission_df[\"Listening_Time_minutes\"].clip(lower=0, upper=test_data[\"Episode_Length_minutes\"])"
   ]
  },
  {
   "cell_type": "code",
   "execution_count": 29,
   "id": "ba855414",
   "metadata": {
    "execution": {
     "iopub.execute_input": "2025-04-03T19:55:53.178793Z",
     "iopub.status.busy": "2025-04-03T19:55:53.178451Z",
     "iopub.status.idle": "2025-04-03T19:55:53.709392Z",
     "shell.execute_reply": "2025-04-03T19:55:53.708345Z"
    },
    "papermill": {
     "duration": 0.542772,
     "end_time": "2025-04-03T19:55:53.711296",
     "exception": false,
     "start_time": "2025-04-03T19:55:53.168524",
     "status": "completed"
    },
    "tags": []
   },
   "outputs": [],
   "source": [
    "submission_df.to_csv(\"submission_Base_Submission_04_04.csv\", index=False)"
   ]
  },
  {
   "cell_type": "code",
   "execution_count": 30,
   "id": "794493fc",
   "metadata": {
    "execution": {
     "iopub.execute_input": "2025-04-03T19:55:53.731410Z",
     "iopub.status.busy": "2025-04-03T19:55:53.731042Z",
     "iopub.status.idle": "2025-04-03T19:55:53.735111Z",
     "shell.execute_reply": "2025-04-03T19:55:53.734125Z"
    },
    "papermill": {
     "duration": 0.016142,
     "end_time": "2025-04-03T19:55:53.736708",
     "exception": false,
     "start_time": "2025-04-03T19:55:53.720566",
     "status": "completed"
    },
    "tags": []
   },
   "outputs": [],
   "source": [
    "features = X_train.columns"
   ]
  },
  {
   "cell_type": "code",
   "execution_count": 31,
   "id": "634b41b1",
   "metadata": {
    "execution": {
     "iopub.execute_input": "2025-04-03T19:55:53.756136Z",
     "iopub.status.busy": "2025-04-03T19:55:53.755688Z",
     "iopub.status.idle": "2025-04-03T19:56:57.341541Z",
     "shell.execute_reply": "2025-04-03T19:56:57.340268Z"
    },
    "papermill": {
     "duration": 63.597955,
     "end_time": "2025-04-03T19:56:57.343819",
     "exception": false,
     "start_time": "2025-04-03T19:55:53.745864",
     "status": "completed"
    },
    "tags": []
   },
   "outputs": [
    {
     "name": "stdout",
     "output_type": "stream",
     "text": [
      "#########################\n",
      "### Fold 1\n",
      "#########################\n",
      "#########################\n",
      "### Fold 2\n",
      "#########################\n",
      "#########################\n",
      "### Fold 3\n",
      "#########################\n",
      "#########################\n",
      "### Fold 4\n",
      "#########################\n",
      "#########################\n",
      "### Fold 5\n",
      "#########################\n",
      "CPU times: user 1min 3s, sys: 18 s, total: 1min 21s\n",
      "Wall time: 1min 3s\n"
     ]
    }
   ],
   "source": [
    "%%time\n",
    "FOLDS = 5\n",
    "kf = KFold(n_splits=FOLDS, shuffle=True, random_state=42)\n",
    "    \n",
    "oof_xgb = np.zeros(len(train_data))\n",
    "pred_xgb = np.zeros(len(test_data))\n",
    "\n",
    "for i, (train_index, test_index) in enumerate(kf.split(train_data)):\n",
    "\n",
    "    print(\"#\"*25)\n",
    "    print(f\"### Fold {i+1}\")\n",
    "    print(\"#\"*25)\n",
    "    \n",
    "    x_train = train_data.loc[train_index,features].copy()\n",
    "    y_train = train_data.loc[train_index,\"Listening_Time_minutes\"]    \n",
    "    x_valid = train_data.loc[test_index,features].copy()\n",
    "    y_valid = train_data.loc[test_index,\"Listening_Time_minutes\"]\n",
    "    x_test = test_data[features].copy()\n",
    "\n",
    "    model = LinearRegression(**best_param_liner_reg)\n",
    "    model.fit(x_train, y_train)\n",
    "\n",
    "    # INFER OOF\n",
    "    oof_xgb[test_index] = model.predict(x_valid)\n",
    "    # INFER TEST\n",
    "    pred_xgb += model.predict(x_test)\n",
    "\n",
    "# COMPUTE AVERAGE TEST PREDS\n",
    "pred_xgb /= FOLDS"
   ]
  },
  {
   "cell_type": "code",
   "execution_count": 32,
   "id": "ee096db4",
   "metadata": {
    "execution": {
     "iopub.execute_input": "2025-04-03T19:56:57.364412Z",
     "iopub.status.busy": "2025-04-03T19:56:57.363979Z",
     "iopub.status.idle": "2025-04-03T19:56:57.893306Z",
     "shell.execute_reply": "2025-04-03T19:56:57.892048Z"
    },
    "papermill": {
     "duration": 0.541753,
     "end_time": "2025-04-03T19:56:57.895283",
     "exception": false,
     "start_time": "2025-04-03T19:56:57.353530",
     "status": "completed"
    },
    "tags": []
   },
   "outputs": [],
   "source": [
    "submission_df = pd.DataFrame({\n",
    "    'id': test_data['id'],\n",
    "    'Listening_Time_minutes': pred_xgb  # Predicted probabilities for rainfall\n",
    "})\n",
    "submission_df[\"Listening_Time_minutes\"] = submission_df[\"Listening_Time_minutes\"].clip(lower=0, upper=test_data[\"Episode_Length_minutes\"])\n",
    "submission_df.to_csv(\"submission_Base_oof_04_04.csv\", index=False)"
   ]
  },
  {
   "cell_type": "code",
   "execution_count": null,
   "id": "c77f5514",
   "metadata": {
    "papermill": {
     "duration": 0.008937,
     "end_time": "2025-04-03T19:56:57.913931",
     "exception": false,
     "start_time": "2025-04-03T19:56:57.904994",
     "status": "completed"
    },
    "tags": []
   },
   "outputs": [],
   "source": []
  }
 ],
 "metadata": {
  "kaggle": {
   "accelerator": "none",
   "dataSources": [
    {
     "databundleVersionId": 11351736,
     "sourceId": 91715,
     "sourceType": "competition"
    }
   ],
   "dockerImageVersionId": 30918,
   "isGpuEnabled": false,
   "isInternetEnabled": true,
   "language": "python",
   "sourceType": "notebook"
  },
  "kernelspec": {
   "display_name": "Python 3",
   "language": "python",
   "name": "python3"
  },
  "language_info": {
   "codemirror_mode": {
    "name": "ipython",
    "version": 3
   },
   "file_extension": ".py",
   "mimetype": "text/x-python",
   "name": "python",
   "nbconvert_exporter": "python",
   "pygments_lexer": "ipython3",
   "version": "3.10.12"
  },
  "papermill": {
   "default_parameters": {},
   "duration": 460.681505,
   "end_time": "2025-04-03T19:56:58.745381",
   "environment_variables": {},
   "exception": null,
   "input_path": "__notebook__.ipynb",
   "output_path": "__notebook__.ipynb",
   "parameters": {},
   "start_time": "2025-04-03T19:49:18.063876",
   "version": "2.6.0"
  }
 },
 "nbformat": 4,
 "nbformat_minor": 5
}
